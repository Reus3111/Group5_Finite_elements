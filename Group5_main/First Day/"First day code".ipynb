{
 "cells": [
  {
   "cell_type": "code",
   "execution_count": 5,
   "id": "a9a2aee8-2995-4782-a9ce-1675b0968ff0",
   "metadata": {},
   "outputs": [
    {
     "name": "stdout",
     "output_type": "stream",
     "text": [
      "MethodInstance for solver(::SparseMatrixCSC{Float64, Int64}, ::Vector{Float64})\n",
      "  from solver(\u001b[90mMat\u001b[39m::\u001b[1mSparseMatrixCSC\u001b[22m\u001b[0m{Float64, Int64}, \u001b[90mb\u001b[39m::\u001b[1mVector\u001b[22m\u001b[0m{Float64})\u001b[90m @\u001b[39m \u001b[90mMain\u001b[39m \u001b[90m\u001b[4mIn[5]:3\u001b[24m\u001b[39m\n",
      "Arguments\n",
      "  #self#\u001b[36m::Core.Const(solver)\u001b[39m\n",
      "  Mat\u001b[36m::SparseMatrixCSC{Float64, Int64}\u001b[39m\n",
      "  b\u001b[36m::Vector{Float64}\u001b[39m\n",
      "Locals\n",
      "  u\u001b[36m::Vector{Float64}\u001b[39m\n",
      "Body\u001b[36m::Vector{Float64}\u001b[39m\n",
      "\u001b[90m1 ─\u001b[39m       Core.NewvarNode(:(u))\n",
      "\u001b[90m│  \u001b[39m %2  = Main.size(Mat)\u001b[36m::Tuple{Int64, Int64}\u001b[39m\n",
      "\u001b[90m│  \u001b[39m %3  = Base.getindex(%2, 1)\u001b[36m::Int64\u001b[39m\n",
      "\u001b[90m│  \u001b[39m %4  = Main.size(Mat)\u001b[36m::Tuple{Int64, Int64}\u001b[39m\n",
      "\u001b[90m│  \u001b[39m %5  = Base.getindex(%4, 2)\u001b[36m::Int64\u001b[39m\n",
      "\u001b[90m│  \u001b[39m %6  = (%3 == %5)\u001b[36m::Bool\u001b[39m\n",
      "\u001b[90m└──\u001b[39m       goto #5 if not %6\n",
      "\u001b[90m2 ─\u001b[39m %8  = Main.size(Mat)\u001b[36m::Tuple{Int64, Int64}\u001b[39m\n",
      "\u001b[90m│  \u001b[39m %9  = Base.getindex(%8, 1)\u001b[36m::Int64\u001b[39m\n",
      "\u001b[90m│  \u001b[39m %10 = Main.size(b)\u001b[36m::Tuple{Int64}\u001b[39m\n",
      "\u001b[90m│  \u001b[39m %11 = Base.getindex(%10, 1)\u001b[36m::Int64\u001b[39m\n",
      "\u001b[90m│  \u001b[39m %12 = (%9 != %11)\u001b[36m::Bool\u001b[39m\n",
      "\u001b[90m└──\u001b[39m       goto #4 if not %12\n",
      "\u001b[90m3 ─\u001b[39m       Main.error(\"Wrong dimensions\")\n",
      "\u001b[90m4 ┄\u001b[39m       (u = Mat \\ b)\n",
      "\u001b[90m│  \u001b[39m %16 = u\u001b[36m::Vector{Float64}\u001b[39m\n",
      "\u001b[90m│  \u001b[39m %17 = Core.apply_type(Main.Vector, Main.Float64)\u001b[36m::Core.Const(Vector{Float64})\u001b[39m\n",
      "\u001b[90m│  \u001b[39m %18 = Core.typeassert(%16, %17)\u001b[36m::Vector{Float64}\u001b[39m\n",
      "\u001b[90m└──\u001b[39m       return %18\n",
      "\u001b[90m5 ─\u001b[39m       Main.error(\"It's not a square matrix\")\n",
      "\u001b[90m└──\u001b[39m       Core.Const(:(return %20))\n",
      "\n"
     ]
    }
   ],
   "source": [
    "using SparseArrays\n",
    "using Plots\n",
    "function solver(Mat::SparseMatrixCSC{Float64, Int64},b::Vector{Float64})\n",
    "    if(size(Mat)[1]==size(Mat)[2])\n",
    "        if(size(Mat)[1]!=size(b)[1])\n",
    "            error(\"Wrong dimensions\")\n",
    "        end\n",
    "        u = Mat \\ b\n",
    "        return u::Vector{Float64}\n",
    "    else\n",
    "        error(\"It's not a square matrix\")\n",
    "    end\n",
    "end\n",
    "\n",
    "function sourceFct(x)\n",
    "    mu = 0.3\n",
    "    sigma = .1\n",
    "    return exp( -(x-mu)^2/sigma^2)\n",
    "end \n",
    "\n",
    "N = 10; \n",
    "h = 1/N;\n",
    "xstart = 0. \n",
    "xend = 1.\n",
    "x = Vector(xstart:h:xend)\n",
    "f = sourceFct.(x)\n",
    "h2 = h*h;\n",
    "Np1 = N+1; \n",
    "# initialize to zero matrix \n",
    "A = zeros(Np1,Np1)\n",
    "\n",
    "# loop over rows and columns to set values of matrix A \n",
    "for i in axes(A,1), j in axes(A,2)\n",
    "    if (i==j) A[i,j] = 2/h2 end \n",
    "    if ((i==j-1) || (i==j+1)) A[i,j] = -1/h2 end \n",
    "end\n",
    "# modify the first row of matrix A \n",
    "A[1,1] = 1; A[1,2] = 0; \n",
    "# modify the last row of matrix A \n",
    "A[end,end] = 1; A[end,end-1] = 0;  \n",
    "\n",
    "B = A \n",
    "B[5,5] = 3.4 \n",
    "A = convert(SparseMatrixCSC{Float64, Int64},A)\n",
    "u=solver(A,f)\n",
    "plot(x,u)\n",
    "using BenchmarkTools\n",
    "@code_warntype solver(A,f)"
   ]
  },
  {
   "cell_type": "code",
   "execution_count": 6,
   "id": "b8275da8-ad5e-4389-8c77-a93b274aed6a",
   "metadata": {},
   "outputs": [
    {
     "name": "stdout",
     "output_type": "stream",
     "text": [
      "  3.008 μs (49 allocations: 5.50 KiB)\n"
     ]
    },
    {
     "data": {
      "text/plain": [
       "u: 11-element Vector{Float64}:\n",
       "  0.0001234098040866799\n",
       "  0.002431581943428087\n",
       "  0.00455659769388216\n",
       "  0.003002819032621802\n",
       " -0.008550959628638562\n",
       " -0.006972346071709938\n",
       " -0.005576888903668656\n",
       " -0.0041826658336682416\n",
       " -0.0027884438890195744\n",
       " -0.0013942219445097865\n",
       "  5.242885663363542e-22"
      ]
     },
     "execution_count": 6,
     "metadata": {},
     "output_type": "execute_result"
    }
   ],
   "source": [
    "using LinearSolve\n",
    "\n",
    "function solv(Mat,b)\n",
    "    Mat = convert(SparseMatrixCSC{Float64, Int64}, Mat)\n",
    "    b = convert(Vector{Float64},b)\n",
    "    prob = LinearProblem(Mat, b)\n",
    "    if(size(Mat)[1]==size(Mat)[2])\n",
    "        if(size(Mat)[1]!=size(b)[1])\n",
    "            error(\"Wrong dimensions\")\n",
    "        end\n",
    "        u = solve(prob, KrylovJL_GMRES())\n",
    "        return u\n",
    "    else\n",
    "        error(\"It's not a square matrix\")\n",
    "    end\n",
    "end\n",
    "@btime solv(A,f)"
   ]
  },
  {
   "cell_type": "code",
   "execution_count": null,
   "id": "c2a0b854-2e9f-4274-9560-c7b526f24824",
   "metadata": {},
   "outputs": [],
   "source": []
  }
 ],
 "metadata": {
  "kernelspec": {
   "display_name": "Julia 1.9.3",
   "language": "julia",
   "name": "julia-1.9"
  },
  "language_info": {
   "file_extension": ".jl",
   "mimetype": "application/julia",
   "name": "julia",
   "version": "1.9.3"
  }
 },
 "nbformat": 4,
 "nbformat_minor": 5
}
